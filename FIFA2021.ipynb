{
 "cells": [
  {
   "cell_type": "markdown",
   "id": "52202b36",
   "metadata": {},
   "source": [
    "# Import libraries"
   ]
  },
  {
   "cell_type": "code",
   "execution_count": 2,
   "id": "687dc1d8",
   "metadata": {},
   "outputs": [],
   "source": [
    "import pandas as pd\n",
    "import numpy as np"
   ]
  },
  {
   "cell_type": "markdown",
   "id": "e114154d",
   "metadata": {},
   "source": [
    "# Read the dataset"
   ]
  },
  {
   "cell_type": "code",
   "execution_count": 3,
   "id": "4891251a",
   "metadata": {},
   "outputs": [],
   "source": [
    "pd.set_option('display.max_columns', None)\n",
    "data = pd.read_csv(r'C:\\Users\\keert\\Desktop\\fifa21 raw data.csv',low_memory=False)\n"
   ]
  },
  {
   "cell_type": "markdown",
   "id": "a2078765",
   "metadata": {},
   "source": [
    "# Data Cleaning"
   ]
  },
  {
   "cell_type": "code",
   "execution_count": 4,
   "id": "26e8d2d8",
   "metadata": {},
   "outputs": [],
   "source": [
    "fifa= data.copy()"
   ]
  },
  {
   "cell_type": "code",
   "execution_count": 71,
   "id": "b34aa6d9",
   "metadata": {},
   "outputs": [
    {
     "data": {
      "text/html": [
       "<div>\n",
       "<style scoped>\n",
       "    .dataframe tbody tr th:only-of-type {\n",
       "        vertical-align: middle;\n",
       "    }\n",
       "\n",
       "    .dataframe tbody tr th {\n",
       "        vertical-align: top;\n",
       "    }\n",
       "\n",
       "    .dataframe thead th {\n",
       "        text-align: right;\n",
       "    }\n",
       "</style>\n",
       "<table border=\"1\" class=\"dataframe\">\n",
       "  <thead>\n",
       "    <tr style=\"text-align: right;\">\n",
       "      <th></th>\n",
       "      <th>ID</th>\n",
       "      <th>Name</th>\n",
       "      <th>LongName</th>\n",
       "      <th>photoUrl</th>\n",
       "      <th>playerUrl</th>\n",
       "      <th>Nationality</th>\n",
       "      <th>Age</th>\n",
       "      <th>↓OVA</th>\n",
       "      <th>POT</th>\n",
       "      <th>Club</th>\n",
       "      <th>Contract</th>\n",
       "      <th>Positions</th>\n",
       "      <th>Height</th>\n",
       "      <th>Weight</th>\n",
       "      <th>Preferred Foot</th>\n",
       "      <th>BOV</th>\n",
       "      <th>Best Position</th>\n",
       "      <th>Joined</th>\n",
       "      <th>Loan Date End</th>\n",
       "      <th>Value</th>\n",
       "      <th>Wage</th>\n",
       "      <th>Release Clause</th>\n",
       "      <th>Attacking</th>\n",
       "      <th>Crossing</th>\n",
       "      <th>Finishing</th>\n",
       "      <th>Heading Accuracy</th>\n",
       "      <th>Short Passing</th>\n",
       "      <th>Volleys</th>\n",
       "      <th>Skill</th>\n",
       "      <th>Dribbling</th>\n",
       "      <th>Curve</th>\n",
       "      <th>FK Accuracy</th>\n",
       "      <th>Long Passing</th>\n",
       "      <th>Ball Control</th>\n",
       "      <th>Movement</th>\n",
       "      <th>Acceleration</th>\n",
       "      <th>Sprint Speed</th>\n",
       "      <th>Agility</th>\n",
       "      <th>Reactions</th>\n",
       "      <th>Balance</th>\n",
       "      <th>Power</th>\n",
       "      <th>Shot Power</th>\n",
       "      <th>Jumping</th>\n",
       "      <th>Stamina</th>\n",
       "      <th>Strength</th>\n",
       "      <th>Long Shots</th>\n",
       "      <th>Mentality</th>\n",
       "      <th>Aggression</th>\n",
       "      <th>Interceptions</th>\n",
       "      <th>Positioning</th>\n",
       "      <th>Vision</th>\n",
       "      <th>Penalties</th>\n",
       "      <th>Composure</th>\n",
       "      <th>Defending</th>\n",
       "      <th>Marking</th>\n",
       "      <th>Standing Tackle</th>\n",
       "      <th>Sliding Tackle</th>\n",
       "      <th>Goalkeeping</th>\n",
       "      <th>GK Diving</th>\n",
       "      <th>GK Handling</th>\n",
       "      <th>GK Kicking</th>\n",
       "      <th>GK Positioning</th>\n",
       "      <th>GK Reflexes</th>\n",
       "      <th>Total Stats</th>\n",
       "      <th>Base Stats</th>\n",
       "      <th>W/F</th>\n",
       "      <th>SM</th>\n",
       "      <th>A/W</th>\n",
       "      <th>D/W</th>\n",
       "      <th>IR</th>\n",
       "      <th>PAC</th>\n",
       "      <th>SHO</th>\n",
       "      <th>PAS</th>\n",
       "      <th>DRI</th>\n",
       "      <th>DEF</th>\n",
       "      <th>PHY</th>\n",
       "      <th>Hits</th>\n",
       "    </tr>\n",
       "  </thead>\n",
       "  <tbody>\n",
       "    <tr>\n",
       "      <th>10079</th>\n",
       "      <td>205163</td>\n",
       "      <td>E. Huws</td>\n",
       "      <td>Emyr Huws</td>\n",
       "      <td>https://cdn.sofifa.com/players/205/163/21_60.png</td>\n",
       "      <td>http://sofifa.com/player/205163/emyr-huws/210006/</td>\n",
       "      <td>Wales</td>\n",
       "      <td>26</td>\n",
       "      <td>65</td>\n",
       "      <td>66</td>\n",
       "      <td>\\n\\n\\n\\nIpswich Town</td>\n",
       "      <td>2017 ~ 2021</td>\n",
       "      <td>CM, CDM</td>\n",
       "      <td>185cm</td>\n",
       "      <td>78kg</td>\n",
       "      <td>Left</td>\n",
       "      <td>66</td>\n",
       "      <td>CAM</td>\n",
       "      <td>28-Jun-17</td>\n",
       "      <td>NaN</td>\n",
       "      <td>€825K</td>\n",
       "      <td>€4K</td>\n",
       "      <td>€1.1M</td>\n",
       "      <td>294</td>\n",
       "      <td>64</td>\n",
       "      <td>62</td>\n",
       "      <td>49</td>\n",
       "      <td>67</td>\n",
       "      <td>52</td>\n",
       "      <td>312</td>\n",
       "      <td>64</td>\n",
       "      <td>60</td>\n",
       "      <td>56</td>\n",
       "      <td>66</td>\n",
       "      <td>66</td>\n",
       "      <td>321</td>\n",
       "      <td>67</td>\n",
       "      <td>66</td>\n",
       "      <td>67</td>\n",
       "      <td>63</td>\n",
       "      <td>58</td>\n",
       "      <td>334</td>\n",
       "      <td>70</td>\n",
       "      <td>67</td>\n",
       "      <td>68</td>\n",
       "      <td>64</td>\n",
       "      <td>65</td>\n",
       "      <td>318</td>\n",
       "      <td>63</td>\n",
       "      <td>62</td>\n",
       "      <td>60</td>\n",
       "      <td>67</td>\n",
       "      <td>66</td>\n",
       "      <td>71</td>\n",
       "      <td>184</td>\n",
       "      <td>59</td>\n",
       "      <td>63</td>\n",
       "      <td>62</td>\n",
       "      <td>40</td>\n",
       "      <td>13</td>\n",
       "      <td>6</td>\n",
       "      <td>6</td>\n",
       "      <td>9</td>\n",
       "      <td>6</td>\n",
       "      <td>1803</td>\n",
       "      <td>385</td>\n",
       "      <td>3 ★</td>\n",
       "      <td>3★</td>\n",
       "      <td>High</td>\n",
       "      <td>Medium</td>\n",
       "      <td>1 ★</td>\n",
       "      <td>66</td>\n",
       "      <td>64</td>\n",
       "      <td>65</td>\n",
       "      <td>65</td>\n",
       "      <td>60</td>\n",
       "      <td>65</td>\n",
       "      <td>2</td>\n",
       "    </tr>\n",
       "    <tr>\n",
       "      <th>12453</th>\n",
       "      <td>241534</td>\n",
       "      <td>S. McLoughlin</td>\n",
       "      <td>Sean McLoughlin</td>\n",
       "      <td>https://cdn.sofifa.com/players/241/534/21_60.png</td>\n",
       "      <td>http://sofifa.com/player/241534/sean-mcloughli...</td>\n",
       "      <td>Republic of Ireland</td>\n",
       "      <td>23</td>\n",
       "      <td>63</td>\n",
       "      <td>73</td>\n",
       "      <td>\\n\\n\\n\\nHull City</td>\n",
       "      <td>2019 ~ 2022</td>\n",
       "      <td>CB</td>\n",
       "      <td>191cm</td>\n",
       "      <td>74kg</td>\n",
       "      <td>Left</td>\n",
       "      <td>65</td>\n",
       "      <td>CB</td>\n",
       "      <td>26-Jul-19</td>\n",
       "      <td>NaN</td>\n",
       "      <td>€1M</td>\n",
       "      <td>€2K</td>\n",
       "      <td>€1.1M</td>\n",
       "      <td>224</td>\n",
       "      <td>50</td>\n",
       "      <td>29</td>\n",
       "      <td>61</td>\n",
       "      <td>58</td>\n",
       "      <td>26</td>\n",
       "      <td>227</td>\n",
       "      <td>55</td>\n",
       "      <td>29</td>\n",
       "      <td>32</td>\n",
       "      <td>55</td>\n",
       "      <td>56</td>\n",
       "      <td>260</td>\n",
       "      <td>51</td>\n",
       "      <td>55</td>\n",
       "      <td>45</td>\n",
       "      <td>60</td>\n",
       "      <td>49</td>\n",
       "      <td>273</td>\n",
       "      <td>41</td>\n",
       "      <td>70</td>\n",
       "      <td>67</td>\n",
       "      <td>74</td>\n",
       "      <td>21</td>\n",
       "      <td>249</td>\n",
       "      <td>64</td>\n",
       "      <td>61</td>\n",
       "      <td>44</td>\n",
       "      <td>39</td>\n",
       "      <td>41</td>\n",
       "      <td>60</td>\n",
       "      <td>188</td>\n",
       "      <td>61</td>\n",
       "      <td>64</td>\n",
       "      <td>63</td>\n",
       "      <td>42</td>\n",
       "      <td>8</td>\n",
       "      <td>7</td>\n",
       "      <td>6</td>\n",
       "      <td>14</td>\n",
       "      <td>7</td>\n",
       "      <td>1463</td>\n",
       "      <td>319</td>\n",
       "      <td>3 ★</td>\n",
       "      <td>2★</td>\n",
       "      <td>Medium</td>\n",
       "      <td>Medium</td>\n",
       "      <td>1 ★</td>\n",
       "      <td>53</td>\n",
       "      <td>31</td>\n",
       "      <td>49</td>\n",
       "      <td>54</td>\n",
       "      <td>62</td>\n",
       "      <td>70</td>\n",
       "      <td>11</td>\n",
       "    </tr>\n",
       "    <tr>\n",
       "      <th>6824</th>\n",
       "      <td>233090</td>\n",
       "      <td>J. Torres</td>\n",
       "      <td>Joaquín Torres</td>\n",
       "      <td>https://cdn.sofifa.com/players/233/090/21_60.png</td>\n",
       "      <td>http://sofifa.com/player/233090/joaquin-torres...</td>\n",
       "      <td>Argentina</td>\n",
       "      <td>23</td>\n",
       "      <td>68</td>\n",
       "      <td>77</td>\n",
       "      <td>\\n\\n\\n\\nNewell's Old Boys</td>\n",
       "      <td>2014 ~ 2021</td>\n",
       "      <td>RM</td>\n",
       "      <td>167cm</td>\n",
       "      <td>70kg</td>\n",
       "      <td>Left</td>\n",
       "      <td>69</td>\n",
       "      <td>LM</td>\n",
       "      <td>01-Dec-14</td>\n",
       "      <td>NaN</td>\n",
       "      <td>€2.7M</td>\n",
       "      <td>€6K</td>\n",
       "      <td>€2.4M</td>\n",
       "      <td>262</td>\n",
       "      <td>56</td>\n",
       "      <td>53</td>\n",
       "      <td>42</td>\n",
       "      <td>64</td>\n",
       "      <td>47</td>\n",
       "      <td>292</td>\n",
       "      <td>75</td>\n",
       "      <td>48</td>\n",
       "      <td>42</td>\n",
       "      <td>60</td>\n",
       "      <td>67</td>\n",
       "      <td>404</td>\n",
       "      <td>81</td>\n",
       "      <td>89</td>\n",
       "      <td>91</td>\n",
       "      <td>61</td>\n",
       "      <td>82</td>\n",
       "      <td>321</td>\n",
       "      <td>61</td>\n",
       "      <td>74</td>\n",
       "      <td>67</td>\n",
       "      <td>57</td>\n",
       "      <td>62</td>\n",
       "      <td>241</td>\n",
       "      <td>40</td>\n",
       "      <td>41</td>\n",
       "      <td>63</td>\n",
       "      <td>58</td>\n",
       "      <td>39</td>\n",
       "      <td>63</td>\n",
       "      <td>93</td>\n",
       "      <td>31</td>\n",
       "      <td>30</td>\n",
       "      <td>32</td>\n",
       "      <td>44</td>\n",
       "      <td>7</td>\n",
       "      <td>10</td>\n",
       "      <td>12</td>\n",
       "      <td>7</td>\n",
       "      <td>8</td>\n",
       "      <td>1657</td>\n",
       "      <td>365</td>\n",
       "      <td>3 ★</td>\n",
       "      <td>3★</td>\n",
       "      <td>Medium</td>\n",
       "      <td>Medium</td>\n",
       "      <td>1 ★</td>\n",
       "      <td>85</td>\n",
       "      <td>56</td>\n",
       "      <td>59</td>\n",
       "      <td>74</td>\n",
       "      <td>34</td>\n",
       "      <td>57</td>\n",
       "      <td>2</td>\n",
       "    </tr>\n",
       "  </tbody>\n",
       "</table>\n",
       "</div>"
      ],
      "text/plain": [
       "           ID           Name         LongName  \\\n",
       "10079  205163        E. Huws        Emyr Huws   \n",
       "12453  241534  S. McLoughlin  Sean McLoughlin   \n",
       "6824   233090      J. Torres   Joaquín Torres   \n",
       "\n",
       "                                               photoUrl  \\\n",
       "10079  https://cdn.sofifa.com/players/205/163/21_60.png   \n",
       "12453  https://cdn.sofifa.com/players/241/534/21_60.png   \n",
       "6824   https://cdn.sofifa.com/players/233/090/21_60.png   \n",
       "\n",
       "                                               playerUrl          Nationality  \\\n",
       "10079  http://sofifa.com/player/205163/emyr-huws/210006/                Wales   \n",
       "12453  http://sofifa.com/player/241534/sean-mcloughli...  Republic of Ireland   \n",
       "6824   http://sofifa.com/player/233090/joaquin-torres...            Argentina   \n",
       "\n",
       "       Age  ↓OVA  POT                       Club     Contract Positions  \\\n",
       "10079   26    65   66       \\n\\n\\n\\nIpswich Town  2017 ~ 2021   CM, CDM   \n",
       "12453   23    63   73          \\n\\n\\n\\nHull City  2019 ~ 2022        CB   \n",
       "6824    23    68   77  \\n\\n\\n\\nNewell's Old Boys  2014 ~ 2021        RM   \n",
       "\n",
       "      Height Weight Preferred Foot  BOV Best Position     Joined  \\\n",
       "10079  185cm   78kg           Left   66           CAM  28-Jun-17   \n",
       "12453  191cm   74kg           Left   65            CB  26-Jul-19   \n",
       "6824   167cm   70kg           Left   69            LM  01-Dec-14   \n",
       "\n",
       "      Loan Date End  Value Wage Release Clause  Attacking  Crossing  \\\n",
       "10079           NaN  €825K  €4K          €1.1M        294        64   \n",
       "12453           NaN    €1M  €2K          €1.1M        224        50   \n",
       "6824            NaN  €2.7M  €6K          €2.4M        262        56   \n",
       "\n",
       "       Finishing  Heading Accuracy  Short Passing  Volleys  Skill  Dribbling  \\\n",
       "10079         62                49             67       52    312         64   \n",
       "12453         29                61             58       26    227         55   \n",
       "6824          53                42             64       47    292         75   \n",
       "\n",
       "       Curve  FK Accuracy  Long Passing  Ball Control  Movement  Acceleration  \\\n",
       "10079     60           56            66            66       321            67   \n",
       "12453     29           32            55            56       260            51   \n",
       "6824      48           42            60            67       404            81   \n",
       "\n",
       "       Sprint Speed  Agility  Reactions  Balance  Power  Shot Power  Jumping  \\\n",
       "10079            66       67         63       58    334          70       67   \n",
       "12453            55       45         60       49    273          41       70   \n",
       "6824             89       91         61       82    321          61       74   \n",
       "\n",
       "       Stamina  Strength  Long Shots  Mentality  Aggression  Interceptions  \\\n",
       "10079       68        64          65        318          63             62   \n",
       "12453       67        74          21        249          64             61   \n",
       "6824        67        57          62        241          40             41   \n",
       "\n",
       "       Positioning  Vision  Penalties  Composure  Defending  Marking  \\\n",
       "10079           60      67         66         71        184       59   \n",
       "12453           44      39         41         60        188       61   \n",
       "6824            63      58         39         63         93       31   \n",
       "\n",
       "       Standing Tackle  Sliding Tackle  Goalkeeping  GK Diving  GK Handling  \\\n",
       "10079               63              62           40         13            6   \n",
       "12453               64              63           42          8            7   \n",
       "6824                30              32           44          7           10   \n",
       "\n",
       "       GK Kicking  GK Positioning  GK Reflexes  Total Stats  Base Stats  W/F  \\\n",
       "10079           6               9            6         1803         385  3 ★   \n",
       "12453           6              14            7         1463         319  3 ★   \n",
       "6824           12               7            8         1657         365  3 ★   \n",
       "\n",
       "       SM     A/W     D/W   IR  PAC  SHO  PAS  DRI  DEF  PHY Hits  \n",
       "10079  3★    High  Medium  1 ★   66   64   65   65   60   65    2  \n",
       "12453  2★  Medium  Medium  1 ★   53   31   49   54   62   70   11  \n",
       "6824   3★  Medium  Medium  1 ★   85   56   59   74   34   57    2  "
      ]
     },
     "execution_count": 71,
     "metadata": {},
     "output_type": "execute_result"
    }
   ],
   "source": [
    "fifa.sample(3)"
   ]
  },
  {
   "cell_type": "markdown",
   "id": "23889e0a",
   "metadata": {},
   "source": [
    "## Club"
   ]
  },
  {
   "cell_type": "code",
   "execution_count": 63,
   "id": "c4a425d7",
   "metadata": {},
   "outputs": [
    {
     "data": {
      "text/plain": [
       "dtype('O')"
      ]
     },
     "execution_count": 63,
     "metadata": {},
     "output_type": "execute_result"
    }
   ],
   "source": [
    "fifa['Club'].dtype"
   ]
  },
  {
   "cell_type": "code",
   "execution_count": 26,
   "id": "a874a668",
   "metadata": {},
   "outputs": [],
   "source": [
    "fifa['Club']= fifa['Club'].str.strip()\n",
    "fifa['Club'].unique()"
   ]
  },
  {
   "cell_type": "markdown",
   "id": "d48935b7",
   "metadata": {},
   "source": [
    "## Contract"
   ]
  },
  {
   "cell_type": "code",
   "execution_count": 74,
   "id": "d40fdf16",
   "metadata": {},
   "outputs": [
    {
     "data": {
      "text/plain": [
       "dtype('O')"
      ]
     },
     "execution_count": 74,
     "metadata": {},
     "output_type": "execute_result"
    }
   ],
   "source": [
    "fifa['Contract'].dtype"
   ]
  },
  {
   "cell_type": "code",
   "execution_count": 25,
   "id": "fe58360d",
   "metadata": {},
   "outputs": [],
   "source": [
    "fifa['Contract'].unique()"
   ]
  },
  {
   "cell_type": "code",
   "execution_count": 24,
   "id": "9ab24c8a",
   "metadata": {},
   "outputs": [
    {
     "ename": "SyntaxError",
     "evalue": "incomplete input (737217895.py, line 3)",
     "output_type": "error",
     "traceback": [
      "\u001b[1;36m  Cell \u001b[1;32mIn[24], line 3\u001b[1;36m\u001b[0m\n\u001b[1;33m    #print (row['Contract'])\u001b[0m\n\u001b[1;37m                            ^\u001b[0m\n\u001b[1;31mSyntaxError\u001b[0m\u001b[1;31m:\u001b[0m incomplete input\n"
     ]
    }
   ],
   "source": [
    "for index,row in fifa.iterrows():\n",
    "    if \"On Loan\" in row['Contract'] or 'Free' in row['Contract']:\n",
    "        print (row['Contract'])"
   ]
  },
  {
   "cell_type": "code",
   "execution_count": 77,
   "id": "5f228303",
   "metadata": {},
   "outputs": [],
   "source": [
    "def contract_info(contract):\n",
    "    if contract == 'Free' or 'On Loan' in contract:\n",
    "        start_date= np.nan\n",
    "        end_date= np.nan\n",
    "        contract_length= 0\n",
    "    else:\n",
    "        start_date, end_date = contract.split(' ~ ')\n",
    "        start_year= int(start_date[:4])\n",
    "        end_year= int(end_date[:4])\n",
    "        contract_length= end_year - start_year\n",
    "    return start_date, end_date, contract_length\n",
    "\n",
    "# Apply fn to Contract column & create new columns\n",
    "\n",
    "new_cols =['Contract Start', 'Contract End', 'Contract Length(years)']\n",
    "new_data = fifa['Contract'].apply(lambda x: pd.Series(contract_info(x)))\n",
    "\n",
    "for i in range(len(new_cols)):\n",
    "    fifa.insert(loc=fifa.columns.get_loc('Contract')+1+i, column = new_cols[i], value=new_data[i])\n",
    "\n"
   ]
  },
  {
   "cell_type": "code",
   "execution_count": 81,
   "id": "32e3cb82",
   "metadata": {},
   "outputs": [
    {
     "data": {
      "text/html": [
       "<div>\n",
       "<style scoped>\n",
       "    .dataframe tbody tr th:only-of-type {\n",
       "        vertical-align: middle;\n",
       "    }\n",
       "\n",
       "    .dataframe tbody tr th {\n",
       "        vertical-align: top;\n",
       "    }\n",
       "\n",
       "    .dataframe thead th {\n",
       "        text-align: right;\n",
       "    }\n",
       "</style>\n",
       "<table border=\"1\" class=\"dataframe\">\n",
       "  <thead>\n",
       "    <tr style=\"text-align: right;\">\n",
       "      <th></th>\n",
       "      <th>Contract</th>\n",
       "      <th>Contract Start</th>\n",
       "      <th>Contract End</th>\n",
       "      <th>Contract Length(years)</th>\n",
       "    </tr>\n",
       "  </thead>\n",
       "  <tbody>\n",
       "    <tr>\n",
       "      <th>13159</th>\n",
       "      <td>Jun 30, 2021 On Loan</td>\n",
       "      <td>NaN</td>\n",
       "      <td>NaN</td>\n",
       "      <td>0.0</td>\n",
       "    </tr>\n",
       "    <tr>\n",
       "      <th>14983</th>\n",
       "      <td>2020 ~ 2020</td>\n",
       "      <td>2020</td>\n",
       "      <td>2020</td>\n",
       "      <td>0.0</td>\n",
       "    </tr>\n",
       "    <tr>\n",
       "      <th>8552</th>\n",
       "      <td>2018 ~ 2021</td>\n",
       "      <td>2018</td>\n",
       "      <td>2021</td>\n",
       "      <td>3.0</td>\n",
       "    </tr>\n",
       "  </tbody>\n",
       "</table>\n",
       "</div>"
      ],
      "text/plain": [
       "                   Contract Contract Start Contract End  \\\n",
       "13159  Jun 30, 2021 On Loan            NaN          NaN   \n",
       "14983           2020 ~ 2020           2020         2020   \n",
       "8552            2018 ~ 2021           2018         2021   \n",
       "\n",
       "       Contract Length(years)  \n",
       "13159                     0.0  \n",
       "14983                     0.0  \n",
       "8552                      3.0  "
      ]
     },
     "execution_count": 81,
     "metadata": {},
     "output_type": "execute_result"
    }
   ],
   "source": [
    "fifa[['Contract','Contract Start', 'Contract End', 'Contract Length(years)']].sample(3)"
   ]
  },
  {
   "cell_type": "code",
   "execution_count": 82,
   "id": "7e61252a",
   "metadata": {},
   "outputs": [],
   "source": [
    "#contract categories\n",
    "\n",
    "def contract_category(contract):\n",
    "    if contract =='Free':\n",
    "        return 'Free'\n",
    "    elif 'On Loan' in contract:\n",
    "        return 'On Loan'\n",
    "    else:\n",
    "        return 'Contract'\n",
    "    \n",
    "#apply fn to Contract column, add Contract Category column\n",
    "\n",
    "fifa.insert(loc=fifa.columns.get_loc('Contract')+1, column='Contract Category',\n",
    "            value= fifa['Contract'].apply(contract_category))\n"
   ]
  },
  {
   "cell_type": "code",
   "execution_count": 83,
   "id": "f075a5b7",
   "metadata": {},
   "outputs": [
    {
     "data": {
      "text/html": [
       "<div>\n",
       "<style scoped>\n",
       "    .dataframe tbody tr th:only-of-type {\n",
       "        vertical-align: middle;\n",
       "    }\n",
       "\n",
       "    .dataframe tbody tr th {\n",
       "        vertical-align: top;\n",
       "    }\n",
       "\n",
       "    .dataframe thead th {\n",
       "        text-align: right;\n",
       "    }\n",
       "</style>\n",
       "<table border=\"1\" class=\"dataframe\">\n",
       "  <thead>\n",
       "    <tr style=\"text-align: right;\">\n",
       "      <th></th>\n",
       "      <th>Contract</th>\n",
       "      <th>Contract Start</th>\n",
       "      <th>Contract End</th>\n",
       "      <th>Contract Length(years)</th>\n",
       "      <th>Contract Category</th>\n",
       "    </tr>\n",
       "  </thead>\n",
       "  <tbody>\n",
       "    <tr>\n",
       "      <th>15494</th>\n",
       "      <td>2020 ~ 2022</td>\n",
       "      <td>2020</td>\n",
       "      <td>2022</td>\n",
       "      <td>2.0</td>\n",
       "      <td>Contract</td>\n",
       "    </tr>\n",
       "    <tr>\n",
       "      <th>1693</th>\n",
       "      <td>2015 ~ 2020</td>\n",
       "      <td>2015</td>\n",
       "      <td>2020</td>\n",
       "      <td>5.0</td>\n",
       "      <td>Contract</td>\n",
       "    </tr>\n",
       "    <tr>\n",
       "      <th>14205</th>\n",
       "      <td>2018 ~ 2021</td>\n",
       "      <td>2018</td>\n",
       "      <td>2021</td>\n",
       "      <td>3.0</td>\n",
       "      <td>Contract</td>\n",
       "    </tr>\n",
       "  </tbody>\n",
       "</table>\n",
       "</div>"
      ],
      "text/plain": [
       "          Contract Contract Start Contract End  Contract Length(years)  \\\n",
       "15494  2020 ~ 2022           2020         2022                     2.0   \n",
       "1693   2015 ~ 2020           2015         2020                     5.0   \n",
       "14205  2018 ~ 2021           2018         2021                     3.0   \n",
       "\n",
       "      Contract Category  \n",
       "15494          Contract  \n",
       "1693           Contract  \n",
       "14205          Contract  "
      ]
     },
     "execution_count": 83,
     "metadata": {},
     "output_type": "execute_result"
    }
   ],
   "source": [
    "fifa[['Contract','Contract Start', 'Contract End', 'Contract Length(years)','Contract Category']].sample(3)"
   ]
  },
  {
   "cell_type": "markdown",
   "id": "5223c6bf",
   "metadata": {},
   "source": [
    "# Height"
   ]
  },
  {
   "cell_type": "code",
   "execution_count": 26,
   "id": "222b4f02",
   "metadata": {},
   "outputs": [
    {
     "data": {
      "text/plain": [
       "dtype('O')"
      ]
     },
     "execution_count": 26,
     "metadata": {},
     "output_type": "execute_result"
    }
   ],
   "source": [
    "fifa['Height'].dtype"
   ]
  },
  {
   "cell_type": "code",
   "execution_count": 23,
   "id": "2956d13c",
   "metadata": {},
   "outputs": [],
   "source": [
    "fifa['Height'].unique()"
   ]
  },
  {
   "cell_type": "code",
   "execution_count": 28,
   "id": "ffd3e807",
   "metadata": {},
   "outputs": [],
   "source": [
    "def convert_height(height):\n",
    "    if 'cm' in height:\n",
    "        return int(height.strip('cm'))\n",
    "    else:\n",
    "        feet,inches = height.split(\"'\")\n",
    "        calculate_inches = int(feet)*12 + int(inches.strip('\"'))\n",
    "        calculate_cm = round(calculate_inches*2.54)\n",
    "        return calculate_cm\n",
    "        \n",
    "#apply fn to column Height\n",
    "\n",
    "fifa['Height']= fifa['Height'].apply(convert_height)"
   ]
  },
  {
   "cell_type": "code",
   "execution_count": 22,
   "id": "d325bb33",
   "metadata": {},
   "outputs": [],
   "source": [
    "fifa= fifa.rename(columns= {'Height':\"Height(cm)\"})\n",
    "\n",
    "fifa['Height(cm)'].unique()"
   ]
  },
  {
   "cell_type": "markdown",
   "id": "30a0c6c3",
   "metadata": {},
   "source": [
    "## Weight"
   ]
  },
  {
   "cell_type": "code",
   "execution_count": 43,
   "id": "c5b38deb",
   "metadata": {},
   "outputs": [
    {
     "data": {
      "text/plain": [
       "dtype('O')"
      ]
     },
     "execution_count": 43,
     "metadata": {},
     "output_type": "execute_result"
    }
   ],
   "source": [
    "fifa['Weight'].dtype"
   ]
  },
  {
   "cell_type": "code",
   "execution_count": 21,
   "id": "252c0712",
   "metadata": {},
   "outputs": [],
   "source": [
    "fifa['Weight'].unique()"
   ]
  },
  {
   "cell_type": "code",
   "execution_count": 45,
   "id": "0e7b0eb8",
   "metadata": {},
   "outputs": [],
   "source": [
    "def convert_weight(weight):\n",
    "    if \"kg\" in weight:\n",
    "        return int(weight.strip('kg'))\n",
    "    else:\n",
    "        lbs_to_kg = int(weight.strip('lbs'))/2.2\n",
    "        return round(lbs_to_kg)\n",
    "\n",
    "#apply fn to column data\n",
    "fifa['Weight'] = fifa['Weight'].apply(convert_weight)\n",
    "    "
   ]
  },
  {
   "cell_type": "code",
   "execution_count": 46,
   "id": "d86a9f7f",
   "metadata": {},
   "outputs": [
    {
     "data": {
      "text/plain": [
       "array([ 72,  83,  87,  70,  68,  80,  71,  91,  73,  85,  92,  69,  84,\n",
       "        96,  81,  82,  75,  86,  89,  74,  76,  64,  78,  90,  66,  60,\n",
       "        94,  79,  67,  65,  59,  61,  93,  88,  97,  77,  62,  63,  95,\n",
       "       100,  58,  98, 103,  99, 102,  56, 101,  57,  55, 104, 107, 110,\n",
       "        53,  50,  54,  52], dtype=int64)"
      ]
     },
     "execution_count": 46,
     "metadata": {},
     "output_type": "execute_result"
    }
   ],
   "source": [
    "fifa = fifa.rename(columns= {'Weight': 'Weight(kg)'})\n",
    "fifa['Weight(kg)'].unique()"
   ]
  },
  {
   "cell_type": "markdown",
   "id": "adb5321f",
   "metadata": {},
   "source": [
    "## Loan Date End"
   ]
  },
  {
   "cell_type": "code",
   "execution_count": 12,
   "id": "f7d72c3b",
   "metadata": {},
   "outputs": [
    {
     "data": {
      "text/plain": [
       "dtype('O')"
      ]
     },
     "execution_count": 12,
     "metadata": {},
     "output_type": "execute_result"
    }
   ],
   "source": [
    "fifa['Loan Date End'].dtype"
   ]
  },
  {
   "cell_type": "code",
   "execution_count": 13,
   "id": "5b642fa1",
   "metadata": {},
   "outputs": [
    {
     "data": {
      "text/plain": [
       "array([nan, '30-Jun-21', '31-Dec-20', '30-Jan-21', '30-Jun-22',\n",
       "       '31-May-21', '05-Jul-21', '31-Dec-21', '01-Jul-21', '01-Jan-21',\n",
       "       '31-Aug-21', '31-Jan-21', '30-Dec-21', '23-Jun-21', '03-Jan-21',\n",
       "       '27-Nov-21', '17-Jan-21', '30-Jun-23', '31-Jul-21', '22-Nov-20',\n",
       "       '31-May-22', '30-Dec-20', '04-Jan-21', '30-Nov-20', '01-Aug-21'],\n",
       "      dtype=object)"
      ]
     },
     "execution_count": 13,
     "metadata": {},
     "output_type": "execute_result"
    }
   ],
   "source": [
    "fifa['Loan Date End'].unique()"
   ]
  },
  {
   "cell_type": "code",
   "execution_count": 26,
   "id": "7ce6b1e0",
   "metadata": {},
   "outputs": [],
   "source": [
    "date1= pd.to_datetime(fifa['Loan Date End'],errors= 'coerce', format= '%d-%b-%y')\n",
    "date2= pd.to_datetime(fifa['Loan Date End'],errors= 'coerce', format= '%d-%B-%y')\n",
    "fifa['Loan Date End']= date1.fillna(date2)"
   ]
  },
  {
   "cell_type": "code",
   "execution_count": 17,
   "id": "3224dcc6",
   "metadata": {},
   "outputs": [
    {
     "ename": "KeyError",
     "evalue": "\"['Contract Category'] not in index\"",
     "output_type": "error",
     "traceback": [
      "\u001b[1;31m---------------------------------------------------------------------------\u001b[0m",
      "\u001b[1;31mKeyError\u001b[0m                                  Traceback (most recent call last)",
      "Cell \u001b[1;32mIn[17], line 2\u001b[0m\n\u001b[0;32m      1\u001b[0m on_loan_contracts \u001b[38;5;241m=\u001b[39m fifa[fifa[\u001b[38;5;124m'\u001b[39m\u001b[38;5;124mContract\u001b[39m\u001b[38;5;124m'\u001b[39m]\u001b[38;5;241m.\u001b[39mstr\u001b[38;5;241m.\u001b[39mcontains(\u001b[38;5;124m'\u001b[39m\u001b[38;5;124mOn Loan\u001b[39m\u001b[38;5;124m'\u001b[39m)]\n\u001b[1;32m----> 2\u001b[0m on_loan_contracts[[\u001b[38;5;124m'\u001b[39m\u001b[38;5;124mContract\u001b[39m\u001b[38;5;124m'\u001b[39m,\u001b[38;5;124m'\u001b[39m\u001b[38;5;124mContract Category\u001b[39m\u001b[38;5;124m'\u001b[39m,\u001b[38;5;124m'\u001b[39m\u001b[38;5;124mLoan Date End\u001b[39m\u001b[38;5;124m'\u001b[39m]]\n",
      "File \u001b[1;32m~\\anaconda3\\Lib\\site-packages\\pandas\\core\\frame.py:3767\u001b[0m, in \u001b[0;36mDataFrame.__getitem__\u001b[1;34m(self, key)\u001b[0m\n\u001b[0;32m   3765\u001b[0m     \u001b[38;5;28;01mif\u001b[39;00m is_iterator(key):\n\u001b[0;32m   3766\u001b[0m         key \u001b[38;5;241m=\u001b[39m \u001b[38;5;28mlist\u001b[39m(key)\n\u001b[1;32m-> 3767\u001b[0m     indexer \u001b[38;5;241m=\u001b[39m \u001b[38;5;28mself\u001b[39m\u001b[38;5;241m.\u001b[39mcolumns\u001b[38;5;241m.\u001b[39m_get_indexer_strict(key, \u001b[38;5;124m\"\u001b[39m\u001b[38;5;124mcolumns\u001b[39m\u001b[38;5;124m\"\u001b[39m)[\u001b[38;5;241m1\u001b[39m]\n\u001b[0;32m   3769\u001b[0m \u001b[38;5;66;03m# take() does not accept boolean indexers\u001b[39;00m\n\u001b[0;32m   3770\u001b[0m \u001b[38;5;28;01mif\u001b[39;00m \u001b[38;5;28mgetattr\u001b[39m(indexer, \u001b[38;5;124m\"\u001b[39m\u001b[38;5;124mdtype\u001b[39m\u001b[38;5;124m\"\u001b[39m, \u001b[38;5;28;01mNone\u001b[39;00m) \u001b[38;5;241m==\u001b[39m \u001b[38;5;28mbool\u001b[39m:\n",
      "File \u001b[1;32m~\\anaconda3\\Lib\\site-packages\\pandas\\core\\indexes\\base.py:5877\u001b[0m, in \u001b[0;36mIndex._get_indexer_strict\u001b[1;34m(self, key, axis_name)\u001b[0m\n\u001b[0;32m   5874\u001b[0m \u001b[38;5;28;01melse\u001b[39;00m:\n\u001b[0;32m   5875\u001b[0m     keyarr, indexer, new_indexer \u001b[38;5;241m=\u001b[39m \u001b[38;5;28mself\u001b[39m\u001b[38;5;241m.\u001b[39m_reindex_non_unique(keyarr)\n\u001b[1;32m-> 5877\u001b[0m \u001b[38;5;28mself\u001b[39m\u001b[38;5;241m.\u001b[39m_raise_if_missing(keyarr, indexer, axis_name)\n\u001b[0;32m   5879\u001b[0m keyarr \u001b[38;5;241m=\u001b[39m \u001b[38;5;28mself\u001b[39m\u001b[38;5;241m.\u001b[39mtake(indexer)\n\u001b[0;32m   5880\u001b[0m \u001b[38;5;28;01mif\u001b[39;00m \u001b[38;5;28misinstance\u001b[39m(key, Index):\n\u001b[0;32m   5881\u001b[0m     \u001b[38;5;66;03m# GH 42790 - Preserve name from an Index\u001b[39;00m\n",
      "File \u001b[1;32m~\\anaconda3\\Lib\\site-packages\\pandas\\core\\indexes\\base.py:5941\u001b[0m, in \u001b[0;36mIndex._raise_if_missing\u001b[1;34m(self, key, indexer, axis_name)\u001b[0m\n\u001b[0;32m   5938\u001b[0m     \u001b[38;5;28;01mraise\u001b[39;00m \u001b[38;5;167;01mKeyError\u001b[39;00m(\u001b[38;5;124mf\u001b[39m\u001b[38;5;124m\"\u001b[39m\u001b[38;5;124mNone of [\u001b[39m\u001b[38;5;132;01m{\u001b[39;00mkey\u001b[38;5;132;01m}\u001b[39;00m\u001b[38;5;124m] are in the [\u001b[39m\u001b[38;5;132;01m{\u001b[39;00maxis_name\u001b[38;5;132;01m}\u001b[39;00m\u001b[38;5;124m]\u001b[39m\u001b[38;5;124m\"\u001b[39m)\n\u001b[0;32m   5940\u001b[0m not_found \u001b[38;5;241m=\u001b[39m \u001b[38;5;28mlist\u001b[39m(ensure_index(key)[missing_mask\u001b[38;5;241m.\u001b[39mnonzero()[\u001b[38;5;241m0\u001b[39m]]\u001b[38;5;241m.\u001b[39munique())\n\u001b[1;32m-> 5941\u001b[0m \u001b[38;5;28;01mraise\u001b[39;00m \u001b[38;5;167;01mKeyError\u001b[39;00m(\u001b[38;5;124mf\u001b[39m\u001b[38;5;124m\"\u001b[39m\u001b[38;5;132;01m{\u001b[39;00mnot_found\u001b[38;5;132;01m}\u001b[39;00m\u001b[38;5;124m not in index\u001b[39m\u001b[38;5;124m\"\u001b[39m)\n",
      "\u001b[1;31mKeyError\u001b[0m: \"['Contract Category'] not in index\""
     ]
    }
   ],
   "source": [
    "on_loan_contracts = fifa[fifa['Contract'].str.contains('On Loan')]\n",
    "on_loan_contracts[['Contract','Contract Category','Loan Date End']]"
   ]
  },
  {
   "cell_type": "markdown",
   "id": "c16b9866",
   "metadata": {},
   "source": [
    "## W/F"
   ]
  },
  {
   "cell_type": "code",
   "execution_count": 28,
   "id": "3c4b3b9f",
   "metadata": {},
   "outputs": [
    {
     "data": {
      "text/plain": [
       "dtype('O')"
      ]
     },
     "execution_count": 28,
     "metadata": {},
     "output_type": "execute_result"
    }
   ],
   "source": [
    "fifa['W/F'].dtype"
   ]
  },
  {
   "cell_type": "code",
   "execution_count": 29,
   "id": "63cb9d38",
   "metadata": {},
   "outputs": [
    {
     "data": {
      "text/plain": [
       "array(['4 ★', '3 ★', '5 ★', '2 ★', '1 ★'], dtype=object)"
      ]
     },
     "execution_count": 29,
     "metadata": {},
     "output_type": "execute_result"
    }
   ],
   "source": [
    "fifa['W/F'].unique()"
   ]
  },
  {
   "cell_type": "code",
   "execution_count": 30,
   "id": "4f4614ca",
   "metadata": {},
   "outputs": [
    {
     "data": {
      "text/plain": [
       "array(['4 ', '3 ', '5 ', '2 ', '1 '], dtype=object)"
      ]
     },
     "execution_count": 30,
     "metadata": {},
     "output_type": "execute_result"
    }
   ],
   "source": [
    "fifa['W/F']= fifa['W/F'].str.strip('★')\n",
    "fifa['W/F'].unique()"
   ]
  },
  {
   "cell_type": "code",
   "execution_count": 31,
   "id": "ed7341e1",
   "metadata": {},
   "outputs": [
    {
     "data": {
      "text/plain": [
       "array(['5 ', '3 ', '4 ', '2 ', '1 '], dtype=object)"
      ]
     },
     "execution_count": 31,
     "metadata": {},
     "output_type": "execute_result"
    }
   ],
   "source": [
    "fifa['IR']= fifa['IR'].str.strip('★')\n",
    "fifa['IR'].unique()"
   ]
  },
  {
   "cell_type": "code",
   "execution_count": 32,
   "id": "2f76feab",
   "metadata": {},
   "outputs": [
    {
     "data": {
      "text/plain": [
       "array(['4', '5', '1', '2', '3'], dtype=object)"
      ]
     },
     "execution_count": 32,
     "metadata": {},
     "output_type": "execute_result"
    }
   ],
   "source": [
    "fifa['SM']= fifa['SM'].str.strip('★')\n",
    "fifa['SM'].unique()"
   ]
  },
  {
   "cell_type": "code",
   "execution_count": 77,
   "id": "e202f837",
   "metadata": {},
   "outputs": [
    {
     "data": {
      "text/plain": [
       "array(['€560K', '€220K', '€125K', '€370K', '€270K', '€240K', '€250K',\n",
       "       '€160K', '€260K', '€210K', '€310K', '€130K', '€350K', '€300K',\n",
       "       '€190K', '€145K', '€195K', '€100K', '€140K', '€290K', '€82K',\n",
       "       '€110K', '€230K', '€155K', '€200K', '€165K', '€95K', '€170K',\n",
       "       '€105K', '€115K', '€150K', '€135K', '€55K', '€58K', '€81K', '€34K',\n",
       "       '€120K', '€59K', '€90K', '€65K', '€56K', '€71K', '€18K', '€75K',\n",
       "       '€47K', '€20K', '€84K', '€86K', '€74K', '€78K', '€27K', '€68K',\n",
       "       '€85K', '€25K', '€46K', '€83K', '€54K', '€79K', '€175K', '€43K',\n",
       "       '€49K', '€45K', '€38K', '€41K', '€39K', '€23K', '€51K', '€50K',\n",
       "       '€87K', '€30K', '€14K', '€69K', '€31K', '€64K', '€53K', '€35K',\n",
       "       '€21K', '€28K', '€17K', '€33K', '€70K', '€32K', '€89K', '€26K',\n",
       "       '€40K', '€76K', '€72K', '€48K', '€36K', '€29K', '€60K', '€16K',\n",
       "       '€37K', '€24K', '€52K', '€0', '€62K', '€73K', '€63K', '€19K',\n",
       "       '€1K', '€66K', '€80K', '€12K', '€2K', '€42K', '€13K', '€900',\n",
       "       '€57K', '€77K', '€61K', '€22K', '€67K', '€44K', '€15K', '€11K',\n",
       "       '€8K', '€850', '€10K', '€88K', '€500', '€7K', '€6K', '€9K', '€5K',\n",
       "       '€700', '€950', '€750', '€3K', '€650', '€600', '€4K', '€800',\n",
       "       '€550'], dtype=object)"
      ]
     },
     "execution_count": 77,
     "metadata": {},
     "output_type": "execute_result"
    }
   ],
   "source": [
    "fifa['Wage'].unique()"
   ]
  },
  {
   "cell_type": "code",
   "execution_count": 41,
   "id": "4897a240",
   "metadata": {},
   "outputs": [],
   "source": [
    "#for wage in fifa['Wage']:\n",
    "    fifa['Wage']  = wage.strip(\"€\")"
   ]
  },
  {
   "cell_type": "code",
   "execution_count": 47,
   "id": "07cb9237",
   "metadata": {},
   "outputs": [],
   "source": [
    "#for i, wage in enumerate(fifa['Wage']):\n",
    "    fifa.loc[i, 'Wage'] = wage.strip('€')  # Corrected: Assign the result back to 'fifa['Wage']'\n"
   ]
  },
  {
   "cell_type": "code",
   "execution_count": 46,
   "id": "2a499f93",
   "metadata": {},
   "outputs": [
    {
     "ename": "IndentationError",
     "evalue": "unexpected indent (3450788593.py, line 2)",
     "output_type": "error",
     "traceback": [
      "\u001b[1;36m  Cell \u001b[1;32mIn[46], line 2\u001b[1;36m\u001b[0m\n\u001b[1;33m    fifa.loc[i, 'Wage'] = wage.strip(\"€\")\u001b[0m\n\u001b[1;37m    ^\u001b[0m\n\u001b[1;31mIndentationError\u001b[0m\u001b[1;31m:\u001b[0m unexpected indent\n"
     ]
    }
   ],
   "source": [
    "#for i, wage in enumerate(fifa['Wage']):\n",
    "    fifa.loc[i, 'Wage'] = wage.strip(\"€\")\n",
    "\n",
    "# Now let's check a few random samples from the updated 'Wage' column:\n",
    "sample_wages = fifa['Wage'].sample(3)\n",
    "sample_wages\n"
   ]
  },
  {
   "cell_type": "code",
   "execution_count": 73,
   "id": "f1b2c88f",
   "metadata": {},
   "outputs": [
    {
     "data": {
      "text/plain": [
       "1020    1K\n",
       "Name: Wage, dtype: object"
      ]
     },
     "execution_count": 73,
     "metadata": {},
     "output_type": "execute_result"
    }
   ],
   "source": [
    "#for wage in fifa['Wage']:\n",
    "    fifa['Wage']= wage.replace('€','')\n",
    "\n",
    "fifa['Wage'].sample()"
   ]
  },
  {
   "cell_type": "code",
   "execution_count": 37,
   "id": "a9459e49",
   "metadata": {},
   "outputs": [
    {
     "name": "stdout",
     "output_type": "stream",
     "text": [
      "<class 'pandas.core.frame.DataFrame'>\n",
      "RangeIndex: 18979 entries, 0 to 18978\n",
      "Data columns (total 77 columns):\n",
      " #   Column            Non-Null Count  Dtype         \n",
      "---  ------            --------------  -----         \n",
      " 0   ID                18979 non-null  int64         \n",
      " 1   Name              18979 non-null  object        \n",
      " 2   LongName          18979 non-null  object        \n",
      " 3   photoUrl          18979 non-null  object        \n",
      " 4   playerUrl         18979 non-null  object        \n",
      " 5   Nationality       18979 non-null  object        \n",
      " 6   Age               18979 non-null  int64         \n",
      " 7   ↓OVA              18979 non-null  int64         \n",
      " 8   POT               18979 non-null  int64         \n",
      " 9   Club              18979 non-null  object        \n",
      " 10  Contract          18979 non-null  object        \n",
      " 11  Positions         18979 non-null  object        \n",
      " 12  Height            18979 non-null  object        \n",
      " 13  Weight            18979 non-null  object        \n",
      " 14  Preferred Foot    18979 non-null  object        \n",
      " 15  BOV               18979 non-null  int64         \n",
      " 16  Best Position     18979 non-null  object        \n",
      " 17  Joined            18979 non-null  datetime64[ns]\n",
      " 18  Loan Date End     1013 non-null   datetime64[ns]\n",
      " 19  Value             18979 non-null  object        \n",
      " 20  Wage              18979 non-null  object        \n",
      " 21  Release Clause    18979 non-null  object        \n",
      " 22  Attacking         18979 non-null  int64         \n",
      " 23  Crossing          18979 non-null  int64         \n",
      " 24  Finishing         18979 non-null  int64         \n",
      " 25  Heading Accuracy  18979 non-null  int64         \n",
      " 26  Short Passing     18979 non-null  int64         \n",
      " 27  Volleys           18979 non-null  int64         \n",
      " 28  Skill             18979 non-null  int64         \n",
      " 29  Dribbling         18979 non-null  int64         \n",
      " 30  Curve             18979 non-null  int64         \n",
      " 31  FK Accuracy       18979 non-null  int64         \n",
      " 32  Long Passing      18979 non-null  int64         \n",
      " 33  Ball Control      18979 non-null  int64         \n",
      " 34  Movement          18979 non-null  int64         \n",
      " 35  Acceleration      18979 non-null  int64         \n",
      " 36  Sprint Speed      18979 non-null  int64         \n",
      " 37  Agility           18979 non-null  int64         \n",
      " 38  Reactions         18979 non-null  int64         \n",
      " 39  Balance           18979 non-null  int64         \n",
      " 40  Power             18979 non-null  int64         \n",
      " 41  Shot Power        18979 non-null  int64         \n",
      " 42  Jumping           18979 non-null  int64         \n",
      " 43  Stamina           18979 non-null  int64         \n",
      " 44  Strength          18979 non-null  int64         \n",
      " 45  Long Shots        18979 non-null  int64         \n",
      " 46  Mentality         18979 non-null  int64         \n",
      " 47  Aggression        18979 non-null  int64         \n",
      " 48  Interceptions     18979 non-null  int64         \n",
      " 49  Positioning       18979 non-null  int64         \n",
      " 50  Vision            18979 non-null  int64         \n",
      " 51  Penalties         18979 non-null  int64         \n",
      " 52  Composure         18979 non-null  int64         \n",
      " 53  Defending         18979 non-null  int64         \n",
      " 54  Marking           18979 non-null  int64         \n",
      " 55  Standing Tackle   18979 non-null  int64         \n",
      " 56  Sliding Tackle    18979 non-null  int64         \n",
      " 57  Goalkeeping       18979 non-null  int64         \n",
      " 58  GK Diving         18979 non-null  int64         \n",
      " 59  GK Handling       18979 non-null  int64         \n",
      " 60  GK Kicking        18979 non-null  int64         \n",
      " 61  GK Positioning    18979 non-null  int64         \n",
      " 62  GK Reflexes       18979 non-null  int64         \n",
      " 63  Total Stats       18979 non-null  int64         \n",
      " 64  Base Stats        18979 non-null  int64         \n",
      " 65  W/F               18979 non-null  int64         \n",
      " 66  SM                18979 non-null  int64         \n",
      " 67  A/W               18979 non-null  object        \n",
      " 68  D/W               18979 non-null  object        \n",
      " 69  IR                18979 non-null  int64         \n",
      " 70  PAC               18979 non-null  int64         \n",
      " 71  SHO               18979 non-null  int64         \n",
      " 72  PAS               18979 non-null  int64         \n",
      " 73  DRI               18979 non-null  int64         \n",
      " 74  DEF               18979 non-null  int64         \n",
      " 75  PHY               18979 non-null  int64         \n",
      " 76  Hits              16384 non-null  object        \n",
      "dtypes: datetime64[ns](2), int64(57), object(18)\n",
      "memory usage: 11.1+ MB\n"
     ]
    }
   ],
   "source": [
    "fifa.info()"
   ]
  },
  {
   "cell_type": "code",
   "execution_count": 33,
   "id": "24998429",
   "metadata": {},
   "outputs": [],
   "source": [
    "for ir in fifa['IR']:\n",
    "    fifa['IR']= int(ir)"
   ]
  },
  {
   "cell_type": "code",
   "execution_count": 34,
   "id": "67cdde8c",
   "metadata": {},
   "outputs": [],
   "source": [
    "for sm in fifa['SM']:\n",
    "    fifa['SM']= int(sm)"
   ]
  },
  {
   "cell_type": "code",
   "execution_count": 36,
   "id": "51017e24",
   "metadata": {},
   "outputs": [],
   "source": [
    "for wf in fifa['W/F']:\n",
    "    fifa['W/F']= int(wf)"
   ]
  },
  {
   "cell_type": "code",
   "execution_count": 24,
   "id": "24596b2d",
   "metadata": {},
   "outputs": [],
   "source": [
    "fifa['Joined']= pd.to_datetime(fifa['Joined'], format= '%d-%B-%y')"
   ]
  },
  {
   "cell_type": "code",
   "execution_count": null,
   "id": "5a409c94",
   "metadata": {},
   "outputs": [],
   "source": [
    "fifa[]"
   ]
  }
 ],
 "metadata": {
  "kernelspec": {
   "display_name": "Python 3 (ipykernel)",
   "language": "python",
   "name": "python3"
  },
  "language_info": {
   "codemirror_mode": {
    "name": "ipython",
    "version": 3
   },
   "file_extension": ".py",
   "mimetype": "text/x-python",
   "name": "python",
   "nbconvert_exporter": "python",
   "pygments_lexer": "ipython3",
   "version": "3.11.5"
  }
 },
 "nbformat": 4,
 "nbformat_minor": 5
}
